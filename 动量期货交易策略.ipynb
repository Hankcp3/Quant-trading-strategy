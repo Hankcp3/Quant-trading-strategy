{
 "cells": [
  {
   "cell_type": "markdown",
   "id": "408e59d5",
   "metadata": {},
   "source": [
    "使用 15 分钟 K 线构造基础策略：当开盘 45 分钟内，连续三根 K 线出现我们定义的多头趋势时，开多仓。而当连续三根 K 线出现我们定义的空 头趋势时，则开空仓，当天平仓，不持隔夜仓。\n",
    "\n",
    "如果开盘 价，最低价以及收盘价随 K 线依次上升，那么可以判定为上涨（多头）趋势。 如果开盘价，最高价以及收盘价随 K 线依次下降，那么可以判定为下跌（空头） 趋势。"
   ]
  },
  {
   "cell_type": "code",
   "execution_count": 1,
   "id": "09587244",
   "metadata": {},
   "outputs": [],
   "source": [
    "import pandas as pd\n",
    "import numpy as np\n",
    "from datetime import date\n",
    "import calendar\n",
    "import matplotlib.pyplot as plt"
   ]
  },
  {
   "cell_type": "code",
   "execution_count": null,
   "id": "405a92b5",
   "metadata": {},
   "outputs": [],
   "source": [
    "import jqdatasdk\n",
    "from jqdatasdk import *\n",
    "auth('13277908318','Scofield199795')"
   ]
  },
  {
   "cell_type": "code",
   "execution_count": null,
   "id": "baafecf1",
   "metadata": {
    "scrolled": true
   },
   "outputs": [],
   "source": [
    "df = get_price('IF9999.CCFX', start_date='2016-01-01', end_date='2022-01-01', frequency='15m')"
   ]
  },
  {
   "cell_type": "code",
   "execution_count": null,
   "id": "6bc7097d",
   "metadata": {},
   "outputs": [],
   "source": [
    "df.to_excel(\"IF分钟收盘价.xlsx\")"
   ]
  },
  {
   "cell_type": "code",
   "execution_count": null,
   "id": "9d122f4a",
   "metadata": {},
   "outputs": [],
   "source": [
    "df_day =get_price(['IF9999.CCFX'], start_date='2016-01-01', end_date='2022-01-01')"
   ]
  },
  {
   "cell_type": "code",
   "execution_count": null,
   "id": "c61dcafd",
   "metadata": {},
   "outputs": [],
   "source": [
    "df_day.to_excel(\"IF日收盘价.xlsx\")"
   ]
  },
  {
   "cell_type": "code",
   "execution_count": 2,
   "id": "c39d57a0",
   "metadata": {},
   "outputs": [],
   "source": [
    "df =pd.read_excel(\"IF分钟收盘价.xlsx\")\n",
    "df_day =pd.read_excel(\"IF日收盘价.xlsx\")"
   ]
  },
  {
   "cell_type": "code",
   "execution_count": 3,
   "id": "4143270c",
   "metadata": {
    "scrolled": false
   },
   "outputs": [
    {
     "data": {
      "text/html": [
       "<div>\n",
       "<style scoped>\n",
       "    .dataframe tbody tr th:only-of-type {\n",
       "        vertical-align: middle;\n",
       "    }\n",
       "\n",
       "    .dataframe tbody tr th {\n",
       "        vertical-align: top;\n",
       "    }\n",
       "\n",
       "    .dataframe thead th {\n",
       "        text-align: right;\n",
       "    }\n",
       "</style>\n",
       "<table border=\"1\" class=\"dataframe\">\n",
       "  <thead>\n",
       "    <tr style=\"text-align: right;\">\n",
       "      <th></th>\n",
       "      <th>Unnamed: 0</th>\n",
       "      <th>open</th>\n",
       "      <th>close</th>\n",
       "      <th>high</th>\n",
       "      <th>low</th>\n",
       "      <th>volume</th>\n",
       "      <th>money</th>\n",
       "    </tr>\n",
       "  </thead>\n",
       "  <tbody>\n",
       "    <tr>\n",
       "      <th>0</th>\n",
       "      <td>2016-01-04 09:45:00</td>\n",
       "      <td>3640.0</td>\n",
       "      <td>3616.0</td>\n",
       "      <td>3657.4</td>\n",
       "      <td>3612.6</td>\n",
       "      <td>2178</td>\n",
       "      <td>2373514200</td>\n",
       "    </tr>\n",
       "    <tr>\n",
       "      <th>1</th>\n",
       "      <td>2016-01-04 10:00:00</td>\n",
       "      <td>3614.2</td>\n",
       "      <td>3607.8</td>\n",
       "      <td>3615.6</td>\n",
       "      <td>3594.0</td>\n",
       "      <td>1791</td>\n",
       "      <td>1936939080</td>\n",
       "    </tr>\n",
       "    <tr>\n",
       "      <th>2</th>\n",
       "      <td>2016-01-04 10:15:00</td>\n",
       "      <td>3607.8</td>\n",
       "      <td>3532.6</td>\n",
       "      <td>3607.8</td>\n",
       "      <td>3519.0</td>\n",
       "      <td>2215</td>\n",
       "      <td>2366643840</td>\n",
       "    </tr>\n",
       "    <tr>\n",
       "      <th>3</th>\n",
       "      <td>2016-01-04 10:30:00</td>\n",
       "      <td>3532.8</td>\n",
       "      <td>3531.8</td>\n",
       "      <td>3544.4</td>\n",
       "      <td>3501.0</td>\n",
       "      <td>1463</td>\n",
       "      <td>1547130300</td>\n",
       "    </tr>\n",
       "    <tr>\n",
       "      <th>4</th>\n",
       "      <td>2016-01-04 10:45:00</td>\n",
       "      <td>3530.2</td>\n",
       "      <td>3541.8</td>\n",
       "      <td>3546.0</td>\n",
       "      <td>3522.0</td>\n",
       "      <td>937</td>\n",
       "      <td>994189860</td>\n",
       "    </tr>\n",
       "    <tr>\n",
       "      <th>...</th>\n",
       "      <td>...</td>\n",
       "      <td>...</td>\n",
       "      <td>...</td>\n",
       "      <td>...</td>\n",
       "      <td>...</td>\n",
       "      <td>...</td>\n",
       "      <td>...</td>\n",
       "    </tr>\n",
       "    <tr>\n",
       "      <th>23371</th>\n",
       "      <td>2021-12-31 14:00:00</td>\n",
       "      <td>4940.6</td>\n",
       "      <td>4947.6</td>\n",
       "      <td>4949.8</td>\n",
       "      <td>4940.2</td>\n",
       "      <td>1887</td>\n",
       "      <td>2799176340</td>\n",
       "    </tr>\n",
       "    <tr>\n",
       "      <th>23372</th>\n",
       "      <td>2021-12-31 14:15:00</td>\n",
       "      <td>4947.6</td>\n",
       "      <td>4949.8</td>\n",
       "      <td>4950.8</td>\n",
       "      <td>4942.6</td>\n",
       "      <td>1820</td>\n",
       "      <td>2700428520</td>\n",
       "    </tr>\n",
       "    <tr>\n",
       "      <th>23373</th>\n",
       "      <td>2021-12-31 14:30:00</td>\n",
       "      <td>4949.2</td>\n",
       "      <td>4948.8</td>\n",
       "      <td>4954.0</td>\n",
       "      <td>4945.2</td>\n",
       "      <td>1972</td>\n",
       "      <td>2928388200</td>\n",
       "    </tr>\n",
       "    <tr>\n",
       "      <th>23374</th>\n",
       "      <td>2021-12-31 14:45:00</td>\n",
       "      <td>4948.8</td>\n",
       "      <td>4948.6</td>\n",
       "      <td>4951.8</td>\n",
       "      <td>4942.6</td>\n",
       "      <td>2136</td>\n",
       "      <td>3170380680</td>\n",
       "    </tr>\n",
       "    <tr>\n",
       "      <th>23375</th>\n",
       "      <td>2021-12-31 15:00:00</td>\n",
       "      <td>4949.0</td>\n",
       "      <td>4943.0</td>\n",
       "      <td>4951.0</td>\n",
       "      <td>4942.0</td>\n",
       "      <td>4396</td>\n",
       "      <td>6523946940</td>\n",
       "    </tr>\n",
       "  </tbody>\n",
       "</table>\n",
       "<p>23376 rows × 7 columns</p>\n",
       "</div>"
      ],
      "text/plain": [
       "               Unnamed: 0    open   close    high     low  volume       money\n",
       "0     2016-01-04 09:45:00  3640.0  3616.0  3657.4  3612.6    2178  2373514200\n",
       "1     2016-01-04 10:00:00  3614.2  3607.8  3615.6  3594.0    1791  1936939080\n",
       "2     2016-01-04 10:15:00  3607.8  3532.6  3607.8  3519.0    2215  2366643840\n",
       "3     2016-01-04 10:30:00  3532.8  3531.8  3544.4  3501.0    1463  1547130300\n",
       "4     2016-01-04 10:45:00  3530.2  3541.8  3546.0  3522.0     937   994189860\n",
       "...                   ...     ...     ...     ...     ...     ...         ...\n",
       "23371 2021-12-31 14:00:00  4940.6  4947.6  4949.8  4940.2    1887  2799176340\n",
       "23372 2021-12-31 14:15:00  4947.6  4949.8  4950.8  4942.6    1820  2700428520\n",
       "23373 2021-12-31 14:30:00  4949.2  4948.8  4954.0  4945.2    1972  2928388200\n",
       "23374 2021-12-31 14:45:00  4948.8  4948.6  4951.8  4942.6    2136  3170380680\n",
       "23375 2021-12-31 15:00:00  4949.0  4943.0  4951.0  4942.0    4396  6523946940\n",
       "\n",
       "[23376 rows x 7 columns]"
      ]
     },
     "execution_count": 3,
     "metadata": {},
     "output_type": "execute_result"
    }
   ],
   "source": [
    "df"
   ]
  },
  {
   "cell_type": "code",
   "execution_count": 4,
   "id": "77903fe6",
   "metadata": {},
   "outputs": [],
   "source": [
    "decision =[]\n",
    "for i in range(0,len(df),16):\n",
    "    open_long = bool(df[\"open\"][i]<df[\"open\"][i+1]<df[\"open\"][i+2])\n",
    "    low_long = bool(df[\"low\"][i]<df[\"low\"][i+1]<df[\"low\"][i+2])\n",
    "    close_long = bool(df[\"close\"][i]<df[\"close\"][i+1]<df[\"close\"][i+2])\n",
    "    \n",
    "    open_short = bool(df[\"open\"][i]>df[\"open\"][i+1]>df[\"open\"][i+2])\n",
    "    high_short = bool(df[\"high\"][i]>df[\"low\"][i+1]>df[\"low\"][i+2])\n",
    "    close_short = bool(df[\"close\"][i]>df[\"close\"][i+1]>df[\"close\"][i+2])    \n",
    "    if open_long==True and low_long==True and close_long==True:\n",
    "        temp = 1\n",
    "    elif open_short==True and high_short==True and close_short==True:\n",
    "        temp = -1\n",
    "    else:\n",
    "        temp = 0\n",
    "    decision.append(temp)"
   ]
  },
  {
   "cell_type": "code",
   "execution_count": 5,
   "id": "71fe5be5",
   "metadata": {},
   "outputs": [],
   "source": [
    "#画图\n",
    "df_return = df_day[\"close\"].pct_change()\n",
    "df_day[\"return\"] = df_return\n",
    "fund = 1 #起始值为1\n",
    "fund_list=[]\n",
    "for i in range(1,len(df_day)): \n",
    "    fund *= (1+df_day[\"return\"][i])\n",
    "    fund_list.append(fund)\n",
    "plot_data = pd.DataFrame()\n",
    "plot_data[\"time\"] = df_day[\"time\"][1:len(df_day)]\n",
    "plot_data[\"market_value\"] = fund_list"
   ]
  },
  {
   "cell_type": "code",
   "execution_count": 6,
   "id": "d2eb278a",
   "metadata": {},
   "outputs": [],
   "source": [
    "fund = 1 #起始值为1\n",
    "fund_list=[]\n",
    "for i in range(1,len(df_day)): \n",
    "    if decision[i] == 1:\n",
    "        fund *= (1+df_day[\"return\"][i]) #多头\n",
    "    elif decision[i] == -1:\n",
    "        fund *= (1-df_day[\"return\"][i]) #空头\n",
    "    else:\n",
    "        fund = fund\n",
    "    fund_list.append(fund)\n",
    "            \n",
    "plot_data[\"strategy_value\"] = fund_list"
   ]
  },
  {
   "cell_type": "code",
   "execution_count": 7,
   "id": "6dd950b0",
   "metadata": {
    "scrolled": false
   },
   "outputs": [
    {
     "data": {
      "text/plain": [
       "<matplotlib.axes._subplots.AxesSubplot at 0x18e7bee8fa0>"
      ]
     },
     "execution_count": 7,
     "metadata": {},
     "output_type": "execute_result"
    },
    {
     "data": {
      "image/png": "[encoded data removed]",
      "text/plain": [
       "<Figure size 432x288 with 1 Axes>"
      ]
     },
     "metadata": {
      "needs_background": "light"
     },
     "output_type": "display_data"
    }
   ],
   "source": [
    "ax = plt.gca()\n",
    "plot_data.plot( x = 'time' , y = 'market_value' , ax = ax )\n",
    "plot_data.plot( x = 'time' , y = 'strategy_value' , ax = ax )"
   ]
  },
  {
   "cell_type": "code",
   "execution_count": 8,
   "id": "0b9f9a9f",
   "metadata": {},
   "outputs": [],
   "source": [
    "#计算年化收益"
   ]
  },
  {
   "cell_type": "code",
   "execution_count": 65,
   "id": "d9fe1120",
   "metadata": {},
   "outputs": [],
   "source": [
    "plot_data = plot_data.reset_index(drop=True)"
   ]
  },
  {
   "cell_type": "code",
   "execution_count": 66,
   "id": "aa9e495a",
   "metadata": {},
   "outputs": [
    {
     "data": {
      "text/html": [
       "<div>\n",
       "<style scoped>\n",
       "    .dataframe tbody tr th:only-of-type {\n",
       "        vertical-align: middle;\n",
       "    }\n",
       "\n",
       "    .dataframe tbody tr th {\n",
       "        vertical-align: top;\n",
       "    }\n",
       "\n",
       "    .dataframe thead th {\n",
       "        text-align: right;\n",
       "    }\n",
       "</style>\n",
       "<table border=\"1\" class=\"dataframe\">\n",
       "  <thead>\n",
       "    <tr style=\"text-align: right;\">\n",
       "      <th></th>\n",
       "      <th>time</th>\n",
       "      <th>market_value</th>\n",
       "      <th>strategy_value</th>\n",
       "    </tr>\n",
       "  </thead>\n",
       "  <tbody>\n",
       "    <tr>\n",
       "      <th>0</th>\n",
       "      <td>2016-01-05</td>\n",
       "      <td>0.995270</td>\n",
       "      <td>1.000000</td>\n",
       "    </tr>\n",
       "    <tr>\n",
       "      <th>1</th>\n",
       "      <td>2016-01-06</td>\n",
       "      <td>1.011679</td>\n",
       "      <td>1.000000</td>\n",
       "    </tr>\n",
       "    <tr>\n",
       "      <th>2</th>\n",
       "      <td>2016-01-07</td>\n",
       "      <td>0.947504</td>\n",
       "      <td>1.000000</td>\n",
       "    </tr>\n",
       "    <tr>\n",
       "      <th>3</th>\n",
       "      <td>2016-01-08</td>\n",
       "      <td>0.966131</td>\n",
       "      <td>1.000000</td>\n",
       "    </tr>\n",
       "    <tr>\n",
       "      <th>4</th>\n",
       "      <td>2016-01-11</td>\n",
       "      <td>0.920234</td>\n",
       "      <td>0.952493</td>\n",
       "    </tr>\n",
       "    <tr>\n",
       "      <th>...</th>\n",
       "      <td>...</td>\n",
       "      <td>...</td>\n",
       "      <td>...</td>\n",
       "    </tr>\n",
       "    <tr>\n",
       "      <th>1455</th>\n",
       "      <td>2021-12-27</td>\n",
       "      <td>1.443796</td>\n",
       "      <td>9.920813</td>\n",
       "    </tr>\n",
       "    <tr>\n",
       "      <th>1456</th>\n",
       "      <td>2021-12-28</td>\n",
       "      <td>1.452438</td>\n",
       "      <td>9.920813</td>\n",
       "    </tr>\n",
       "    <tr>\n",
       "      <th>1457</th>\n",
       "      <td>2021-12-29</td>\n",
       "      <td>1.431533</td>\n",
       "      <td>10.063604</td>\n",
       "    </tr>\n",
       "    <tr>\n",
       "      <th>1458</th>\n",
       "      <td>2021-12-30</td>\n",
       "      <td>1.442336</td>\n",
       "      <td>10.139548</td>\n",
       "    </tr>\n",
       "    <tr>\n",
       "      <th>1459</th>\n",
       "      <td>2021-12-31</td>\n",
       "      <td>1.443212</td>\n",
       "      <td>10.139548</td>\n",
       "    </tr>\n",
       "  </tbody>\n",
       "</table>\n",
       "<p>1460 rows × 3 columns</p>\n",
       "</div>"
      ],
      "text/plain": [
       "           time  market_value  strategy_value\n",
       "0    2016-01-05      0.995270        1.000000\n",
       "1    2016-01-06      1.011679        1.000000\n",
       "2    2016-01-07      0.947504        1.000000\n",
       "3    2016-01-08      0.966131        1.000000\n",
       "4    2016-01-11      0.920234        0.952493\n",
       "...         ...           ...             ...\n",
       "1455 2021-12-27      1.443796        9.920813\n",
       "1456 2021-12-28      1.452438        9.920813\n",
       "1457 2021-12-29      1.431533       10.063604\n",
       "1458 2021-12-30      1.442336       10.139548\n",
       "1459 2021-12-31      1.443212       10.139548\n",
       "\n",
       "[1460 rows x 3 columns]"
      ]
     },
     "execution_count": 66,
     "metadata": {},
     "output_type": "execute_result"
    }
   ],
   "source": [
    "plot_data"
   ]
  },
  {
   "cell_type": "code",
   "execution_count": 68,
   "id": "f67a5e4f",
   "metadata": {},
   "outputs": [],
   "source": [
    "total_return = plot_data[\"strategy_value\"][len(plot_data)-1]-1\n",
    "yield_return = (1+total_return)**(1/(len(plot_data)/365))-1"
   ]
  },
  {
   "cell_type": "code",
   "execution_count": 69,
   "id": "951878b0",
   "metadata": {},
   "outputs": [
    {
     "data": {
      "text/plain": [
       "0.7844511054625305"
      ]
     },
     "execution_count": 69,
     "metadata": {},
     "output_type": "execute_result"
    }
   ],
   "source": [
    "yield_return"
   ]
  },
  {
   "cell_type": "code",
   "execution_count": 13,
   "id": "d15f1482",
   "metadata": {},
   "outputs": [],
   "source": [
    "#计算最大回撤"
   ]
  },
  {
   "cell_type": "code",
   "execution_count": 70,
   "id": "1b765366",
   "metadata": {},
   "outputs": [],
   "source": [
    "list_a = plot_data[\"strategy_value\"]\n",
    "list_cu = np.maximum.accumulate(list_a)\n",
    "max_draw_list  =(list_cu-list_a)/list_cu\n",
    "max_draw = max(max_draw_list)"
   ]
  },
  {
   "cell_type": "code",
   "execution_count": 71,
   "id": "e51163ae",
   "metadata": {},
   "outputs": [
    {
     "data": {
      "text/plain": [
       "0.07377400132938888"
      ]
     },
     "execution_count": 71,
     "metadata": {},
     "output_type": "execute_result"
    }
   ],
   "source": [
    "max_draw"
   ]
  },
  {
   "cell_type": "code",
   "execution_count": 72,
   "id": "a4e9761a",
   "metadata": {},
   "outputs": [],
   "source": [
    "index = np.argmax(max_draw_list)"
   ]
  },
  {
   "cell_type": "code",
   "execution_count": 73,
   "id": "f0760fc7",
   "metadata": {},
   "outputs": [
    {
     "data": {
      "text/plain": [
       "Timestamp('2018-04-02 00:00:00')"
      ]
     },
     "execution_count": 73,
     "metadata": {},
     "output_type": "execute_result"
    }
   ],
   "source": [
    "plot_data[\"time\"][index]"
   ]
  },
  {
   "cell_type": "code",
   "execution_count": 74,
   "id": "32940490",
   "metadata": {},
   "outputs": [],
   "source": [
    "#计算夏普率"
   ]
  },
  {
   "cell_type": "code",
   "execution_count": 75,
   "id": "9191e6de",
   "metadata": {},
   "outputs": [
    {
     "data": {
      "text/plain": [
       "0.31125436837042586"
      ]
     },
     "execution_count": 75,
     "metadata": {},
     "output_type": "execute_result"
    }
   ],
   "source": [
    "std = np.std(plot_data[\"strategy_value\"])\n",
    "SR = yield_return/std\n",
    "SR"
   ]
  },
  {
   "cell_type": "code",
   "execution_count": 76,
   "id": "b0e432c9",
   "metadata": {},
   "outputs": [
    {
     "data": {
      "text/plain": [
       "10.633164683044427"
      ]
     },
     "execution_count": 76,
     "metadata": {},
     "output_type": "execute_result"
    }
   ],
   "source": [
    "#Calmar\n",
    "Calmar = yield_return/max_draw\n",
    "Calmar"
   ]
  },
  {
   "cell_type": "code",
   "execution_count": 77,
   "id": "3dde5e1e",
   "metadata": {},
   "outputs": [],
   "source": [
    "#胜率"
   ]
  },
  {
   "cell_type": "code",
   "execution_count": 82,
   "id": "6f1eb4b4",
   "metadata": {},
   "outputs": [],
   "source": [
    "df_day = df_day.reset_index(drop=True)\n",
    "df_day[\"decision\"] =decision"
   ]
  },
  {
   "cell_type": "code",
   "execution_count": 83,
   "id": "23bb980e",
   "metadata": {},
   "outputs": [],
   "source": [
    "win =[]\n",
    "for i in range(len(df_day)):\n",
    "    \n",
    "    if df_day[\"return\"][i]<0 and df_day[\"decision\"][i] ==-1:\n",
    "        temp = 1\n",
    "    elif df_day[\"return\"][i]>0 and df_day[\"decision\"][i] ==1:\n",
    "        temp = 1\n",
    "    elif df_day[\"return\"][i]<0 and df_day[\"decision\"][i] ==0:\n",
    "        temp = 1\n",
    "    else:\n",
    "        temp = 0\n",
    "    win.append(temp)"
   ]
  },
  {
   "cell_type": "code",
   "execution_count": 84,
   "id": "4fd994ea",
   "metadata": {},
   "outputs": [
    {
     "data": {
      "text/plain": [
       "0.5352498288843258"
      ]
     },
     "execution_count": 84,
     "metadata": {},
     "output_type": "execute_result"
    }
   ],
   "source": [
    "winrate = sum(win)/len(win)\n",
    "winrate"
   ]
  },
  {
   "cell_type": "code",
   "execution_count": null,
   "id": "d0ee9030",
   "metadata": {},
   "outputs": [],
   "source": []
  },
  {
   "cell_type": "code",
   "execution_count": null,
   "id": "327e38b7",
   "metadata": {},
   "outputs": [],
   "source": []
  },
  {
   "cell_type": "code",
   "execution_count": null,
   "id": "d3bffe86",
   "metadata": {},
   "outputs": [],
   "source": []
  },
  {
   "cell_type": "code",
   "execution_count": null,
   "id": "d4b0e582",
   "metadata": {},
   "outputs": [],
   "source": []
  },
  {
   "cell_type": "code",
   "execution_count": null,
   "id": "e0124ca9",
   "metadata": {},
   "outputs": [],
   "source": []
  },
  {
   "cell_type": "code",
   "execution_count": null,
   "id": "914e07ab",
   "metadata": {},
   "outputs": [],
   "source": []
  },
  {
   "cell_type": "code",
   "execution_count": null,
   "id": "75a231d7",
   "metadata": {},
   "outputs": [],
   "source": []
  }
 ],
 "metadata": {
  "kernelspec": {
   "display_name": "Python 3 (ipykernel)",
   "language": "python",
   "name": "python3"
  },
  "language_info": {
   "codemirror_mode": {
    "name": "ipython",
    "version": 3
   },
   "file_extension": ".py",
   "mimetype": "text/x-python",
   "name": "python",
   "nbconvert_exporter": "python",
   "pygments_lexer": "ipython3",
   "version": "3.9.12"
  }
 },
 "nbformat": 4,
 "nbformat_minor": 5
}
